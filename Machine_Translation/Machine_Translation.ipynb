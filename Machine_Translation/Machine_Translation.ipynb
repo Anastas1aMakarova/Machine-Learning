{
  "cells": [
    {
      "cell_type": "markdown",
      "metadata": {
        "id": "view-in-github",
        "colab_type": "text"
      },
      "source": [
        "<a href=\"https://colab.research.google.com/github/Anastas1aMakarova/Machine-Learning/blob/main/Machine_Translation.ipynb\" target=\"_parent\"><img src=\"https://colab.research.google.com/assets/colab-badge.svg\" alt=\"Open In Colab\"/></a>"
      ]
    },
    {
      "cell_type": "markdown",
      "id": "26207e79",
      "metadata": {
        "id": "26207e79"
      },
      "source": [
        "## Machine Translation\n"
      ]
    },
    {
      "cell_type": "code",
      "execution_count": null,
      "id": "40bc4acb",
      "metadata": {
        "id": "40bc4acb"
      },
      "outputs": [],
      "source": [
        "import sys\n",
        "import numpy as np\n",
        "import torch\n",
        "import torch.nn.functional as F\n",
        "\n",
        "class Vocab:\n",
        "    def __init__(self, tokens, bos=\"_BOS_\", eos=\"_EOS_\", unk='_UNK_'):\n",
        "        \"\"\"\n",
        "        A special class that converts lines of tokens into matrices and backwards\n",
        "        \"\"\"\n",
        "        assert all(tok in tokens for tok in (bos, eos, unk))\n",
        "        self.tokens = tokens\n",
        "        self.token_to_ix = {t:i for i, t in enumerate(tokens)}\n",
        "        self.bos, self.eos, self.unk = bos, eos, unk\n",
        "        self.bos_ix = self.token_to_ix[bos]\n",
        "        self.eos_ix = self.token_to_ix[eos]\n",
        "        self.unk_ix = self.token_to_ix[unk]\n",
        "\n",
        "    def __len__(self):\n",
        "        return len(self.tokens)\n",
        "\n",
        "    @staticmethod\n",
        "    def from_lines(lines, bos=\"_BOS_\", eos=\"_EOS_\", unk='_UNK_'):\n",
        "        flat_lines = '\\n'.join(list(lines)).split()\n",
        "        tokens = sorted(set(flat_lines))\n",
        "        tokens = [t for t in tokens if t not in (bos, eos, unk) and len(t)]\n",
        "        tokens = [bos, eos, unk] + tokens\n",
        "        return Vocab(tokens, bos, eos, unk)\n",
        "\n",
        "    def tokenize(self, string):\n",
        "        \"\"\"converts string to a list of tokens\"\"\"\n",
        "        tokens = [tok if tok in self.token_to_ix else self.unk\n",
        "                  for tok in string.split()]\n",
        "        return [self.bos] + tokens + [self.eos]\n",
        "\n",
        "    def to_matrix(self, lines, dtype=torch.int64, max_len=None):\n",
        "        \"\"\"\n",
        "        convert variable length token sequences into  fixed size matrix\n",
        "        example usage:\n",
        "        >>>print(to_matrix(words[:3],source_to_ix))\n",
        "        [[15 22 21 28 27 13 -1 -1 -1 -1 -1]\n",
        "         [30 21 15 15 21 14 28 27 13 -1 -1]\n",
        "         [25 37 31 34 21 20 37 21 28 19 13]]\n",
        "        \"\"\"\n",
        "        lines = list(map(self.tokenize, lines))\n",
        "        max_len = max_len or max(map(len, lines))\n",
        "\n",
        "        matrix = torch.full((len(lines), max_len), self.eos_ix, dtype=dtype)\n",
        "        for i, seq in enumerate(lines):\n",
        "            row_ix = list(map(self.token_to_ix.get, seq))[:max_len]\n",
        "            matrix[i, :len(row_ix)] = torch.as_tensor(row_ix)\n",
        "\n",
        "        return matrix\n",
        "\n",
        "    def to_lines(self, matrix, crop=True):\n",
        "        \"\"\"\n",
        "        Convert matrix of token ids into strings\n",
        "        :param matrix: matrix of tokens of int32, shape=[batch,time]\n",
        "        :param crop: if True, crops BOS and EOS from line\n",
        "        :return:\n",
        "        \"\"\"\n",
        "        lines = []\n",
        "        for line_ix in map(list,matrix):\n",
        "            if crop:\n",
        "                if line_ix[0] == self.bos_ix:\n",
        "                    line_ix = line_ix[1:]\n",
        "                if self.eos_ix in line_ix:\n",
        "                    line_ix = line_ix[:line_ix.index(self.eos_ix)]\n",
        "            line = ' '.join(self.tokens[i] for i in line_ix)\n",
        "            lines.append(line)\n",
        "        return lines\n",
        "\n",
        "    def compute_mask(self, input_ix):\n",
        "        \"\"\" compute a boolean mask that equals \"1\" until first EOS (including that EOS) \"\"\"\n",
        "        return F.pad(torch.cumsum(input_ix == self.eos_ix, dim=-1)[..., :-1] < 1, pad=(1, 0, 0, 0), value=True)"
      ]
    },
    {
      "cell_type": "markdown",
      "id": "87057658",
      "metadata": {
        "id": "87057658"
      },
      "source": [
        "## Подключение библиотек"
      ]
    },
    {
      "cell_type": "code",
      "execution_count": null,
      "id": "f14ae99f",
      "metadata": {
        "id": "f14ae99f"
      },
      "outputs": [],
      "source": [
        "import numpy as np\n",
        "import matplotlib.pyplot as plt\n",
        "\n",
        "from nltk.tokenize import WordPunctTokenizer\n",
        "from nltk.translate.bleu_score import corpus_bleu\n",
        "\n",
        "from sklearn.model_selection import train_test_split\n",
        "from vocab import Vocab\n",
        "### Подгрузка данных## Подключение библиотек\n",
        "import torch\n",
        "import torch.nn as nn\n",
        "import torch.nn.functional as F\n",
        "\n",
        "from IPython.display import clear_output\n",
        "from tqdm import tqdm, trange\n",
        "\n",
        "%matplotlib inline"
      ]
    },
    {
      "cell_type": "markdown",
      "id": "6bae8857",
      "metadata": {
        "id": "6bae8857"
      },
      "source": [
        "### Подгрузка данных"
      ]
    },
    {
      "cell_type": "code",
      "execution_count": null,
      "id": "7153aec9",
      "metadata": {
        "id": "7153aec9",
        "outputId": "352c93ac-dd17-4076-f95f-a116313431de"
      },
      "outputs": [
        {
          "name": "stdout",
          "output_type": "stream",
          "text": [
            "Cordelia Hotel is situated in Tbilisi, a 3-minute walk away from Saint Trinity Church.\tОтель Cordelia расположен в Тбилиси, в 3 минутах ходьбы от Свято-Троицкого собора.\n",
            "\n"
          ]
        }
      ],
      "source": [
        "with open('data.txt', encoding='utf-8') as f:\n",
        "    print(f.readlines()[0])"
      ]
    },
    {
      "cell_type": "markdown",
      "id": "8d47d802",
      "metadata": {
        "id": "8d47d802"
      },
      "source": [
        "### BPE"
      ]
    },
    {
      "cell_type": "code",
      "execution_count": null,
      "id": "8b29afdb",
      "metadata": {
        "id": "8b29afdb"
      },
      "outputs": [],
      "source": [
        "from subword_nmt.learn_bpe import learn_bpe\n",
        "from subword_nmt.apply_bpe import BPE"
      ]
    },
    {
      "cell_type": "code",
      "execution_count": null,
      "id": "c0cda5ec",
      "metadata": {
        "id": "c0cda5ec"
      },
      "outputs": [],
      "source": [
        "tokenizer = WordPunctTokenizer()\n",
        "\n",
        "def tokenize(x):\n",
        "  return ' '.join(tokenizer.tokenize(x.lower()))\n",
        "with open('train.en', 'w', encoding='utf-8') as f_src,  open('train.ru', 'w', encoding='utf-8') as f_dst:\n",
        "  for line in open('data.txt',  encoding='utf-8'):\n",
        "    src_line, dst_line = line.strip().split('\\t')\n",
        "    f_src.write(tokenize(src_line) + '\\n')\n",
        "    f_dst.write(tokenize(dst_line) + '\\n')"
      ]
    },
    {
      "cell_type": "code",
      "execution_count": null,
      "id": "4364c7f0",
      "metadata": {
        "id": "4364c7f0",
        "outputId": "edd69104-d45a-4f1d-8f82-5b8227fb4237"
      },
      "outputs": [
        {
          "name": "stderr",
          "output_type": "stream",
          "text": [
            "100%|█████████████████████████████████████████████████████████████████████████████| 8000/8000 [00:11<00:00, 689.28it/s]\n",
            "100%|█████████████████████████████████████████████████████████████████████████████| 8000/8000 [00:11<00:00, 715.84it/s]\n"
          ]
        }
      ],
      "source": [
        "bpe = {}\n",
        "for lang in ['en', 'ru']:\n",
        "    learn_bpe(open('./train.' + lang, encoding='utf-8'), open('bpe_rules.' + lang, 'w', encoding='utf-8'), num_symbols=8000)\n",
        "    bpe[lang] = BPE(open('./bpe_rules.' + lang, encoding='utf-8'))\n",
        "\n",
        "    with open('train.bpe.' + lang, 'w', encoding='utf-8') as f_out:\n",
        "        for line in open('train.' + lang, encoding='utf-8'):\n",
        "            f_out.write(bpe[lang].process_line(line.strip()) + '\\n')"
      ]
    },
    {
      "cell_type": "markdown",
      "id": "32d343fd",
      "metadata": {
        "id": "32d343fd"
      },
      "source": [
        "### Построение словарей\n"
      ]
    },
    {
      "cell_type": "code",
      "execution_count": null,
      "id": "b5345873",
      "metadata": {
        "id": "b5345873",
        "outputId": "77fc69e7-1d6f-4f10-faf4-7b61be76987b"
      },
      "outputs": [
        {
          "name": "stdout",
          "output_type": "stream",
          "text": [
            "inp: этот отель находится в центре парижа , в 2 минутах от площади республики и станции метро с 5 лини@@ ями метро и 4 автобус@@ ными маршру@@ тами .\n",
            "out: this hotel is located in the centre of paris , 2 minutes from place de la ré@@ pub@@ li@@ que and its metro station , which offers 5 metro lines and 4 bus lines .\n",
            "\n",
            "inp: на полностью оборудованной мини - кухне можно самостоятельно готовить .\n",
            "out: there is a full kitchenette where guests are welcome to prepare their meals .\n",
            "\n",
            "inp: номера находятся под кры@@ шей или на ниж@@ них эта@@ жах с эр@@ ке@@ рами с видом на сад .\n",
            "out: set under the roof or on the lower floors with bay windows looking out onto the park , they are all equipped with wi - fi access .\n",
            "\n"
          ]
        }
      ],
      "source": [
        "data_inp = np.array(open('./train.bpe.ru', encoding='utf-8').read().split('\\n'))\n",
        "data_out = np.array(open('./train.bpe.en', encoding='utf-8').read().split('\\n'))\n",
        "\n",
        "train_inp, dev_inp, train_out, dev_out = train_test_split(\n",
        "    data_inp,\n",
        "    data_out,\n",
        "    test_size=3000,\n",
        "    random_state=2023,### Построение словарей\n",
        "\n",
        ")\n",
        "\n",
        "for i in range(3):\n",
        "    print('inp:', train_inp[i])\n",
        "    print('out:', train_out[i], end='\\n\\n')"
      ]
    },
    {
      "cell_type": "code",
      "execution_count": null,
      "id": "bb421dc1",
      "metadata": {
        "id": "bb421dc1",
        "outputId": "a75e0cd4-7202-4f81-802a-cd6b2f6e2d33"
      },
      "outputs": [
        {
          "name": "stdout",
          "output_type": "stream",
          "text": [
            "lines\n",
            "['гостевой дом r .', 'имеется балкон .', 'до афин — 20 км .', 'работает боулинг .', 'оборудован балкон .']\n",
            "\n",
            "words to ids (0 = bos, 1 = eos):\n",
            "tensor([[   0, 2688, 2943, 1109,   29,    1,    1,    1],\n",
            "        [   0, 3486, 1869,   29,    1,    1,    1,    1],\n",
            "        [   0, 2922, 1833, 8034,   59, 3799,   29,    1],\n",
            "        [   0, 6028, 2083,   29,    1,    1,    1,    1],\n",
            "        [   0, 4927, 1869,   29,    1,    1,    1,    1]])\n",
            "\n",
            "back to words\n",
            "['гостевой дом r .', 'имеется балкон .', 'до афин — 20 км .', 'работает боулинг .', 'оборудован балкон .']\n"
          ]
        }
      ],
      "source": [
        "inp_voc = Vocab.from_lines(train_inp)\n",
        "out_voc = Vocab.from_lines(train_out)\n",
        "batch_lines = sorted(train_inp, key=len)[5:10]\n",
        "batch_ids = inp_voc.to_matrix(batch_lines)\n",
        "batch_lines_restored = inp_voc.to_lines(batch_ids)\n",
        "\n",
        "print(\"lines\")\n",
        "print(batch_lines)\n",
        "print(\"\\nwords to ids (0 = bos, 1 = eos):\")\n",
        "print(batch_ids)\n",
        "print(\"\\nback to words\")\n",
        "print(batch_lines_restored)"
      ]
    },
    {
      "cell_type": "code",
      "execution_count": null,
      "id": "13c8087b",
      "metadata": {
        "id": "13c8087b",
        "outputId": "ab2b17bd-5513-485e-e341-af70527b423d"
      },
      "outputs": [
        {
          "data": {
            "image/png": "[encoded data removed]",
            "text/plain": [
              "<Figure size 800x400 with 2 Axes>"
            ]
          },
          "metadata": {},
          "output_type": "display_data"
        }
      ],
      "source": [
        "plt.figure(figsize=[8, 4])\n",
        "plt.subplot(1, 2, 1)\n",
        "plt.title(\"source length\")\n",
        "plt.hist(list(map(len, map(str.split, train_inp))), bins=20);\n",
        "\n",
        "plt.subplot(1, 2, 2)\n",
        "plt.title(\"translation length\")\n",
        "plt.hist(list(map(len, map(str.split, train_out))), bins=20);"
      ]
    },
    {
      "cell_type": "markdown",
      "id": "1f417788",
      "metadata": {
        "id": "1f417788"
      },
      "source": [
        "### Encoder-decoder model\n"
      ]
    },
    {
      "cell_type": "code",
      "execution_count": null,
      "id": "3939f5ac",
      "metadata": {
        "id": "3939f5ac"
      },
      "outputs": [],
      "source": [
        "device = 'cuda' if torch.cuda.is_available() else 'cpu'"
      ]
    },
    {
      "cell_type": "code",
      "execution_count": null,
      "id": "029d17d1",
      "metadata": {
        "id": "029d17d1"
      },
      "outputs": [],
      "source": [
        "class BasicModel(nn.Module):\n",
        "    def __init__(self, inp_voc, out_voc, emb_size=64, hid_size=128):\n",
        "\n",
        "        super().__init__()\n",
        "\n",
        "        self.inp_voc, self.out_voc = inp_voc, out_voc\n",
        "        self.hid_size = hid_size\n",
        "\n",
        "        self.emb_inp = nn.Embedding(len(inp_voc), emb_size)\n",
        "        self.emb_out = nn.Embedding(len(out_voc), emb_size)\n",
        "        self.enc0 = nn.GRU(emb_size, hid_size, batch_first=True)\n",
        "\n",
        "        self.dec_start = nn.Linear(hid_size, hid_size)\n",
        "        self.dec0 = nn.GRUCell(emb_size, hid_size)\n",
        "        self.logits = nn.Linear(hid_size, len(out_voc))\n",
        "\n",
        "    def forward(self, inp, out):\n",
        "\n",
        "        initial_state = self.encode(inp)\n",
        "        return self.decode(initial_state, out)\n",
        "\n",
        "\n",
        "    def encode(self, inp, **flags):\n",
        "\n",
        "        inp_emb = self.emb_inp(inp)\n",
        "        batch_size = inp.shape[0]\n",
        "\n",
        "        enc_seq, last_state_but_not_really = self.enc0(inp_emb)\n",
        "        lengths = (inp != self.inp_voc.eos_ix).to(torch.int64).sum(dim=1).clamp_max(inp.shape[1] - 1)\n",
        "        last_state = enc_seq[torch.arange(len(enc_seq)), lengths]\n",
        "\n",
        "        dec_start = self.dec_start(last_state)\n",
        "        return [dec_start]\n",
        "\n",
        "    def decode_step(self, prev_state, prev_tokens, **flags):\n",
        "\n",
        "        prev_gru0_state = prev_state[0]\n",
        "        prev_emb = self.emb_out(prev_tokens)\n",
        "        new_dec_state = self.dec0(prev_emb, prev_gru0_state) # input & hidden states\n",
        "        output_logits = self.logits(new_dec_state)\n",
        "\n",
        "        return [new_dec_state], output_logits\n",
        "\n",
        "    def decode(self, initial_state, out_tokens, **flags):\n",
        "        batch_size = out_tokens.shape[0]\n",
        "        state = initial_state\n",
        "\n",
        "        onehot_bos = F.one_hot(torch.full([batch_size], self.out_voc.bos_ix, dtype=torch.int64),\n",
        "                               num_classes=len(self.out_voc)).to(device=out_tokens.device)\n",
        "        first_logits = torch.log(onehot_bos.to(torch.float32) + 1e-9)\n",
        "\n",
        "        logits_sequence = [first_logits]\n",
        "        for i in range(out_tokens.shape[1] - 1):\n",
        "            state, logits = self.decode_step(state, out_tokens[:, i])\n",
        "            logits_sequence.append(logits)\n",
        "        return torch.stack(logits_sequence, dim=1)\n",
        "\n",
        "    def decode_inference(self, initial_state, max_len=100, **flags):\n",
        "        batch_size, device = len(initial_state[0]), initial_state[0].device\n",
        "        state = initial_state\n",
        "        outputs = [torch.full([batch_size], self.out_voc.bos_ix, dtype=torch.int64,\n",
        "                              device=device)]\n",
        "        all_states = [initial_state]\n",
        "\n",
        "        for i in range(max_len):\n",
        "            state, logits = self.decode_step(state, outputs[-1])\n",
        "            outputs.append(logits.argmax(dim=-1))\n",
        "            all_states.append(state)\n",
        "\n",
        "        return torch.stack(outputs, dim=1), all_states\n",
        "\n",
        "    def translate_lines(self, inp_lines, **kwargs):\n",
        "        inp = self.inp_voc.to_matrix(inp_lines).to(device)\n",
        "        initial_state = self.encode(inp)\n",
        "        out_ids, states = self.decode_inference(initial_state, **kwargs)\n",
        "        return self.out_voc.to_lines(out_ids.cpu().numpy()), states\n"
      ]
    },
    {
      "cell_type": "code",
      "execution_count": null,
      "id": "fd052bd5",
      "metadata": {
        "id": "fd052bd5"
      },
      "outputs": [],
      "source": [
        "model = BasicModel(inp_voc, out_voc).to(device)\n",
        "\n",
        "dummy_inp_tokens = inp_voc.to_matrix(sorted(train_inp, key=len)[5:10]).to(device)\n",
        "dummy_out_tokens = out_voc.to_matrix(sorted(train_out, key=len)[5:10]).to(device)\n",
        "\n",
        "h0 = model.encode(dummy_inp_tokens)\n",
        "h1, logits1 = model.decode_step(h0, torch.arange(len(dummy_inp_tokens), device=device))\n",
        "\n",
        "assert isinstance(h1, list) and len(h1) == len(h0)\n",
        "assert h1[0].shape == h0[0].shape and not torch.allclose(h1[0], h0[0])\n",
        "assert logits1.shape == (len(dummy_inp_tokens), len(out_voc))\n",
        "\n",
        "logits_seq = model.decode(h0, dummy_out_tokens)\n",
        "assert logits_seq.shape == (dummy_out_tokens.shape[0], dummy_out_tokens.shape[1], len(out_voc))\n",
        "\n",
        "# full forward\n",
        "logits_seq2 = model(dummy_inp_tokens, dummy_out_tokens)\n",
        "assert logits_seq2.shape == logits_seq.shape"
      ]
    },
    {
      "cell_type": "code",
      "execution_count": null,
      "id": "27ca0f77",
      "metadata": {
        "id": "27ca0f77",
        "outputId": "a8bf2638-6c5a-4bdd-d785-921c23a4a809"
      },
      "outputs": [
        {
          "data": {
            "text/plain": [
              "array(['этот отель находится в центре парижа , в 2 минутах от площади республики и станции метро с 5 лини@@ ями метро и 4 автобус@@ ными маршру@@ тами .',\n",
              "       'на полностью оборудованной мини - кухне можно самостоятельно готовить .',\n",
              "       'номера находятся под кры@@ шей или на ниж@@ них эта@@ жах с эр@@ ке@@ рами с видом на сад .'],\n",
              "      dtype='<U524')"
            ]
          },
          "execution_count": 42,
          "metadata": {},
          "output_type": "execute_result"
        }
      ],
      "source": [
        "train_inp[:3]"
      ]
    },
    {
      "cell_type": "code",
      "execution_count": null,
      "id": "2ec7164a",
      "metadata": {
        "id": "2ec7164a",
        "outputId": "bee4998f-a21c-49a7-a3c4-5a90a76ae7e0"
      },
      "outputs": [
        {
          "name": "stdout",
          "output_type": "stream",
          "text": [
            "Translations without training:\n",
            "reis coastal sporting veni@@ que@@ veni@@ locanda woods woods billiards cang@@ ys motor@@ rote glac@@ qiao gual jord@@ friends temp@@ und giovanni rela@@ according alo@@\n",
            "attoria roof sophi@@ them them them arti@@ tren@@ nes sibir@@ dorms cristobal apol@@ apol@@ pollen@@ atm zimmer nights nights zhen aca alex pack@@ vis@@ am\n",
            "reis coastal sporting veni@@ que@@ veni@@ locanda woods woods billiards cang@@ ys motor@@ rote glac@@ qiao gual jord@@ friends temp@@ und giovanni rela@@ according alo@@\n"
          ]
        }
      ],
      "source": [
        "dummy_translations, dummy_states = model.translate_lines(train_inp[:3], max_len=25)\n",
        "print(\"Translations without training:\")\n",
        "print('\\n'.join([line for line in dummy_translations]))"
      ]
    },
    {
      "cell_type": "markdown",
      "id": "20595fa2",
      "metadata": {
        "id": "20595fa2"
      },
      "source": [
        "### Loss"
      ]
    },
    {
      "cell_type": "code",
      "execution_count": null,
      "id": "a728bda8",
      "metadata": {
        "id": "a728bda8"
      },
      "outputs": [],
      "source": [
        "def compute_loss(model, inp, out, **flags):\n",
        "    \"\"\"\n",
        "    Compute loss (float32 scalar) as in the formula above\n",
        "    :param inp: input tokens matrix, int32[batch, time]\n",
        "    :param out: reference tokens matrix, int32[batch, time]\n",
        "\n",
        "    In order to pass the tests, your function should\n",
        "    * include loss at first EOS but not the subsequent ones\n",
        "    * divide sum of losses by a sum of input lengths (use voc.compute_mask)\n",
        "    \"\"\"\n",
        "    mask = model.out_voc.compute_mask(out) # [batch_size, out_len]\n",
        "    targets_1hot = F.one_hot(out, len(model.out_voc)).to(torch.float32)\n",
        "\n",
        "    # outputs of the model, [batch_size, out_len, num_tokens]\n",
        "    logits_seq = model(inp, out)\n",
        "\n",
        "    # log-probabilities of all tokens at all steps, [batch_size, out_len, num_tokens]\n",
        "    logprobs_seq = torch.log_softmax(logits_seq, dim=-1)\n",
        "\n",
        "    # log-probabilities of correct outputs, [batch_size, out_len]\n",
        "    logp_out = (logprobs_seq * targets_1hot).sum(dim=-1)\n",
        "    # ^-- this will select the probability of the actual next token.\n",
        "    # Note: you can compute loss more efficiently using using F.cross_entropy\n",
        "\n",
        "    # average cross-entropy over tokens where mask == True\n",
        "    return -logp_out[mask].mean()"
      ]
    },
    {
      "cell_type": "code",
      "execution_count": null,
      "id": "a6dc9a11",
      "metadata": {
        "id": "a6dc9a11",
        "outputId": "b8f0f10d-467f-464a-eb5c-52eeffe678d8"
      },
      "outputs": [
        {
          "name": "stdout",
          "output_type": "stream",
          "text": [
            "Loss: tensor(7.5258, grad_fn=<NegBackward0>)\n"
          ]
        }
      ],
      "source": [
        "dummy_loss = compute_loss(model, dummy_inp_tokens, dummy_out_tokens)\n",
        "print(\"Loss:\", dummy_loss)\n",
        "assert np.allclose(dummy_loss.item(), 7.5, rtol=0.1, atol=0.1), \"We're sorry for your loss\"\n",
        "\n",
        "# test autograd\n",
        "dummy_loss.backward()\n",
        "for name, param in model.named_parameters():\n",
        "    assert param.grad is not None and abs(param.grad.max()) != 0, f\"Param {name} received no gradients\""
      ]
    },
    {
      "cell_type": "markdown",
      "id": "908bd610",
      "metadata": {
        "id": "908bd610"
      },
      "source": [
        "### Оценка качества: BLEU"
      ]
    },
    {
      "cell_type": "code",
      "execution_count": null,
      "id": "eb90a899",
      "metadata": {
        "id": "eb90a899"
      },
      "outputs": [],
      "source": [
        "def compute_bleu(model, inp_lines, out_lines, bpe_sep='@@ ', **flags):\n",
        "    \"\"\"\n",
        "    Estimates corpora-level BLEU score of model's translations given inp and reference out\n",
        "    \"\"\"\n",
        "    with torch.no_grad():\n",
        "        translations, _ = model.translate_lines(inp_lines, **flags)\n",
        "        translations = [line.replace(bpe_sep, '') for line in translations]\n",
        "        actual = [line.replace(bpe_sep, '') for line in out_lines]\n",
        "        return corpus_bleu(\n",
        "            [[ref.split()] for ref in actual],\n",
        "            [trans.split() for trans in translations],\n",
        "            smoothing_function=lambda precisions, **kw: [p + 1.0 / p.denominator for p in precisions]\n",
        "        ) * 100"
      ]
    },
    {
      "cell_type": "code",
      "execution_count": null,
      "id": "7e804368",
      "metadata": {
        "id": "7e804368",
        "outputId": "ce8fd2af-1537-44b4-d4f0-9858d2c03a30"
      },
      "outputs": [
        {
          "data": {
            "text/plain": [
              "0.001527445446701324"
            ]
          },
          "execution_count": 47,
          "metadata": {},
          "output_type": "execute_result"
        }
      ],
      "source": [
        "compute_bleu(model, dev_inp, dev_out)"
      ]
    },
    {
      "cell_type": "markdown",
      "id": "17d2de95",
      "metadata": {
        "id": "17d2de95"
      },
      "source": [
        "### Training loop"
      ]
    },
    {
      "cell_type": "code",
      "execution_count": null,
      "id": "b312621c",
      "metadata": {
        "id": "b312621c"
      },
      "outputs": [],
      "source": [
        "metrics = {'train_loss': [], 'dev_bleu': [] }\n",
        "\n",
        "model = BasicModel(inp_voc, out_voc).to(device)\n",
        "opt = torch.optim.Adam(model.parameters(), lr=1e-3)\n",
        "batch_size = 32"
      ]
    },
    {
      "cell_type": "code",
      "execution_count": null,
      "id": "5854a077",
      "metadata": {
        "id": "5854a077",
        "outputId": "d7f94767-b908-47be-bd4e-f84cef73fdce"
      },
      "outputs": [
        {
          "data": {
            "image/png": "[encoded data removed]",
            "text/plain": [
              "<Figure size 1200x400 with 2 Axes>"
            ]
          },
          "metadata": {},
          "output_type": "display_data"
        },
        {
          "name": "stdout",
          "output_type": "stream",
          "text": [
            "Mean loss=3.151\n"
          ]
        },
        {
          "name": "stderr",
          "output_type": "stream",
          "text": [
            "100%|██████████████████████████████████████████████████████████████████████████████| 2000/2000 [15:53<00:00,  2.10it/s]\n"
          ]
        }
      ],
      "source": [
        "for _ in trange(2000):\n",
        "    step = len(metrics['train_loss']) + 1\n",
        "    batch_ix = np.random.randint(len(train_inp), size=batch_size)\n",
        "    batch_inp = inp_voc.to_matrix(train_inp[batch_ix]).to(device)\n",
        "    batch_out = out_voc.to_matrix(train_out[batch_ix]).to(device)\n",
        "\n",
        "    opt.zero_grad()\n",
        "    loss_t = compute_loss(model, batch_inp, batch_out)\n",
        "    loss_t.backward()\n",
        "    opt.step()\n",
        "\n",
        "    metrics['train_loss'].append((step, loss_t.item()))\n",
        "\n",
        "    if step % 100 == 0:\n",
        "        metrics['dev_bleu'].append((step, compute_bleu(model, dev_inp, dev_out)))\n",
        "\n",
        "        clear_output(True)\n",
        "        plt.figure(figsize=(12,4))\n",
        "        for i, (name, history) in enumerate(sorted(metrics.items())):\n",
        "            plt.subplot(1, len(metrics), i + 1)\n",
        "            plt.title(name)\n",
        "            plt.plot(*zip(*history))\n",
        "            plt.grid()\n",
        "        plt.show()\n",
        "        print(\"Mean loss=%.3f\" % np.mean(metrics['train_loss'][-10:], axis=0)[1], flush=True)\n",
        "\n",
        "# Note: it's okay if bleu oscillates up and down as long as it gets better on average over long term (e.g. 5k batches)"
      ]
    },
    {
      "cell_type": "code",
      "execution_count": null,
      "id": "dcd9caf3",
      "metadata": {
        "id": "dcd9caf3",
        "outputId": "c8e03c60-6c46-4a0c-a1b4-6c795dcc4156"
      },
      "outputs": [
        {
          "ename": "AssertionError",
          "evalue": "We kind of need a higher bleu BLEU from you. Kind of right now.",
          "output_type": "error",
          "traceback": [
            "\u001b[1;31m---------------------------------------------------------------------------\u001b[0m",
            "\u001b[1;31mAssertionError\u001b[0m                            Traceback (most recent call last)",
            "Cell \u001b[1;32mIn[51], line 1\u001b[0m\n\u001b[1;32m----> 1\u001b[0m \u001b[38;5;28;01massert\u001b[39;00m np\u001b[38;5;241m.\u001b[39mmean(metrics[\u001b[38;5;124m'\u001b[39m\u001b[38;5;124mdev_bleu\u001b[39m\u001b[38;5;124m'\u001b[39m][\u001b[38;5;241m-\u001b[39m\u001b[38;5;241m10\u001b[39m:], axis\u001b[38;5;241m=\u001b[39m\u001b[38;5;241m0\u001b[39m)[\u001b[38;5;241m1\u001b[39m] \u001b[38;5;241m>\u001b[39m \u001b[38;5;241m15\u001b[39m, \u001b[38;5;124m\"\u001b[39m\u001b[38;5;124mWe kind of need a higher bleu BLEU from you. Kind of right now.\u001b[39m\u001b[38;5;124m\"\u001b[39m\n",
            "\u001b[1;31mAssertionError\u001b[0m: We kind of need a higher bleu BLEU from you. Kind of right now."
          ]
        }
      ],
      "source": [
        "assert np.mean(metrics['dev_bleu'][-10:], axis=0)[1] > 15, \"We kind of need a higher bleu BLEU from you. Kind of right now.\""
      ]
    },
    {
      "cell_type": "code",
      "execution_count": null,
      "id": "0455ec8c",
      "metadata": {
        "id": "0455ec8c",
        "outputId": "fd3edbd1-fb49-402b-99ae-fd77d0a6661d"
      },
      "outputs": [
        {
          "name": "stdout",
          "output_type": "stream",
          "text": [
            "в ванной комнате с ванной предоставляется фен .\n",
            "the private bathroom comes with a bath or shower .\n",
            "\n",
            "на территории можно сыграть в дартс и сквош .\n",
            "guests can enjoy a drink at the property .\n",
            "\n",
            "апартаменты располагают гостиной зоной .\n",
            "the accommodation is fitted with a dishwasher .\n",
            "\n",
            "гости могут самостоятельно приготовить блюда на полностью укомплектованной кухне .\n",
            "a microwave and a coffee machine are also available .\n",
            "\n",
            "к услугам гостей 2 спальни и 1 ванная комната с ванной и / или душем , а также кухня с духовкой и микроволновой печью .\n",
            "the apartment comes with a tv , a seating area and a seating area with a seating area and a seating area .\n",
            "\n",
            "ужин для гостей приготовят в ресторане ron@@ ni@@ e ' s w@@ ing@@ s & o@@ y@@ st@@ er bar .\n",
            "the hotel ’ s restaurant serves a variety of activities can be enjoyed on site .\n",
            "\n"
          ]
        }
      ],
      "source": [
        "for inp_line, trans_line in zip(dev_inp[::500], model.translate_lines(dev_inp[::500])[0]):\n",
        "    print(inp_line)\n",
        "    print(trans_line)\n",
        "    print()"
      ]
    },
    {
      "cell_type": "code",
      "execution_count": null,
      "id": "501dcdaa",
      "metadata": {
        "id": "501dcdaa",
        "outputId": "127fd2b4-36bb-400c-fdc7-acb2d9f57af2"
      },
      "outputs": [
        {
          "data": {
            "text/plain": [
              "10.348337721699732"
            ]
          },
          "execution_count": 53,
          "metadata": {},
          "output_type": "execute_result"
        }
      ],
      "source": [
        "compute_bleu(model, dev_inp, dev_out)"
      ]
    },
    {
      "cell_type": "markdown",
      "id": "ade0f4cb",
      "metadata": {
        "id": "ade0f4cb"
      },
      "source": [
        "### Attention"
      ]
    },
    {
      "cell_type": "code",
      "execution_count": null,
      "id": "a9de3bce",
      "metadata": {
        "id": "a9de3bce"
      },
      "outputs": [],
      "source": [
        "class AttentionLayer(nn.Module):\n",
        "    def __init__(self, enc_size, dec_size, hid_size):\n",
        "        \"\"\" A layer that computes additive attention response and weights \"\"\"\n",
        "        super().__init__()\n",
        "        self.enc_size = enc_size # num units in encoder state\n",
        "        self.dec_size = dec_size # num units in decoder state\n",
        "        self.hid_size = hid_size # attention layer hidden units\n",
        "\n",
        "        self.linear_enc = nn.Linear(enc_size, hid_size)\n",
        "        self.linear_dec = nn.Linear(dec_size, hid_size)\n",
        "        self.linear_out = nn.Linear(hid_size, 1)\n",
        "        self.softmax = nn.Softmax(dim=-1)\n",
        "\n",
        "    def forward(self, enc, dec, inp_mask):\n",
        "        \"\"\"\n",
        "        Computes attention response and weights\n",
        "        :param enc: encoder activation sequence, float32[batch_size, ninp, enc_size]\n",
        "        :param dec: single decoder state used as \"query\", float32[batch_size, dec_size]\n",
        "        :param inp_mask: mask on enc activatons (0 after first eos), float32 [batch_size, ninp]\n",
        "        :returns: attn[batch_size, enc_size], probs[batch_size, ninp]\n",
        "            - attn - attention response vector (weighted sum of enc)\n",
        "            - probs - attention weights after softmax\n",
        "        \"\"\"\n",
        "        batch_size, ninp, enc_size = enc.shape\n",
        "\n",
        "        # Compute logits\n",
        "        x = self.linear_dec(dec).reshape(-1, 1, self.hid_size)\n",
        "        x = torch.tanh(self.linear_enc(enc) + x)\n",
        "        x = self.linear_out(x)\n",
        "\n",
        "        # Apply mask - if mask is 0, logits should be -inf or -1e9\n",
        "        # You may need torch.where\n",
        "        x[torch.where(inp_mask == False)] = -1e9\n",
        "\n",
        "        # Compute attention probabilities (softmax)\n",
        "        probs = self.softmax(x.reshape(batch_size, ninp))\n",
        "\n",
        "        # Compute attention response using enc and probs\n",
        "        attn = (probs.reshape(batch_size, ninp, 1) * enc).sum(1)\n",
        "\n",
        "        return attn, probs"
      ]
    },
    {
      "cell_type": "markdown",
      "id": "64394262",
      "metadata": {
        "id": "64394262"
      },
      "source": [
        "### Seq2seq model + attention\n"
      ]
    },
    {
      "cell_type": "code",
      "execution_count": null,
      "id": "5c426b0a",
      "metadata": {
        "id": "5c426b0a"
      },
      "outputs": [],
      "source": [
        "class AttentiveModel(BasicModel):\n",
        "    def __init__(self, inp_voc, out_voc, emb_size=64, hid_size=128, attn_size=128, dropout_prob=0.5): # Добавим аргумент dropout_prob\n",
        "        \"\"\" Translation model that uses attention. See instructions above. \"\"\"\n",
        "        super().__init__(inp_voc, out_voc, emb_size, hid_size)\n",
        "        self.inp_voc, self.out_voc = inp_voc, out_voc\n",
        "        self.hid_size = hid_size\n",
        "        self.dropout_prob = dropout_prob  # Добавим атрибут dropout_prob\n",
        "\n",
        "        self.enc0 = nn.LSTM(emb_size, hid_size, num_layers=2, batch_first=True)\n",
        "        self.dec_start = nn.Linear(hid_size, hid_size)\n",
        "        self.dropout = nn.Dropout(dropout_prob)  # Добавим dropout\n",
        "\n",
        "        self.dec0 = nn.GRUCell(emb_size + hid_size, hid_size)\n",
        "        self.attention = AttentionLayer(hid_size, hid_size, attn_size)\n",
        "\n",
        "\n",
        "    def encode(self, inp, **flags):\n",
        "        \"\"\"\n",
        "        Takes input sequences, computes initial state\n",
        "        :param inp: matrix of input tokens [batch, time]\n",
        "        :return: a list of initial decoder state tensors\n",
        "        \"\"\"\n",
        "        inp_emb = self.emb_inp(inp)\n",
        "        enc_seq, last_state_but_not_really = self.enc0(inp_emb)\n",
        "\n",
        "        lengths = (inp != self.inp_voc.eos_ix).to(torch.int64).sum(dim=1).clamp_max(inp.shape[1] - 1)\n",
        "        last_state = enc_seq[torch.arange(len(enc_seq)), lengths]\n",
        "        dec_start = self.dec_start(last_state)\n",
        "\n",
        "        inp_mask = self.out_voc.compute_mask(inp)\n",
        "        first_attn_probas = self.attention(enc_seq, dec_start, inp_mask)\n",
        "\n",
        "        dec_start = self.dropout(dec_start)\n",
        "\n",
        "        first_state = [dec_start, enc_seq, inp_mask, first_attn_probas]\n",
        "        return first_state\n",
        "\n",
        "    def decode_step(self, prev_state, prev_tokens, **flags):\n",
        "        \"\"\"\n",
        "        Takes previous decoder state and tokens, returns new state and logits for next tokens\n",
        "        :param prev_state: a list of previous decoder state tensors\n",
        "        :param prev_tokens: previous output tokens, an int vector of [batch_size]\n",
        "        :return: a list of next decoder state tensors, a tensor of logits [batch, n_tokens]\n",
        "        \"\"\"\n",
        "\n",
        "        prev_gru0_state, enc_seq, enc_mask, _ = prev_state\n",
        "        attn, attn_probs = self.attention(enc_seq, prev_gru0_state, enc_mask)\n",
        "\n",
        "        x = self.emb_out(prev_tokens)\n",
        "        x = torch.cat([attn, x], dim=-1)\n",
        "\n",
        "        x = self.dropout(x)\n",
        "\n",
        "        x = self.dec0(x, prev_gru0_state)\n",
        "\n",
        "        new_dec_state = [x, enc_seq, enc_mask, attn_probs]\n",
        "        output_logits = self.logits(x)\n",
        "        return [new_dec_state, output_logits]\n",
        "\n",
        "    def decode_inference(self, initial_state, max_len=100, beam_size=5, **flags):\n",
        "        \"\"\" Generate translations from model (beam search version) \"\"\"\n",
        "        batch_size, device = len(initial_state[0]), initial_state[0].device\n",
        "        state = initial_state\n",
        "        outputs = [torch.full([batch_size], self.out_voc.bos_ix, dtype=torch.int64, device=device)]\n",
        "\n",
        "        all_states = [initial_state]\n",
        "\n",
        "        for i in range(max_len):\n",
        "            all_candidates = []\n",
        "            for output in outputs:\n",
        "                state, logits = self.decode_step(state, output)\n",
        "                logprobs = F.log_softmax(logits, dim=-1)\n",
        "\n",
        "                top_probs, top_ix = torch.topk(logprobs[:, -1, :], k=beam_size, dim=-1)\n",
        "\n",
        "                for prob, ix in zip(top_probs.split(1, dim=-1), top_ix.split(1, dim=-1)):\n",
        "                    candidate = (output, state, -prob.item(), ix.item())\n",
        "                    all_candidates.append(candidate)\n",
        "\n",
        "            ordered_candidates = sorted(all_candidates, key=lambda x: x[2])\n",
        "            outputs = [torch.cat((output, candidate[3].view(-1)), dim=-1) for output, _, _, candidate in ordered_candidates[:beam_size]]\n",
        "            all_states.extend([candidate[1] for _, candidate in zip(ordered_candidates[:beam_size])])\n",
        "\n",
        "        return torch.stack(outputs, dim=1), all_states"
      ]
    },
    {
      "cell_type": "code",
      "execution_count": null,
      "id": "b2c56dc0",
      "metadata": {
        "id": "b2c56dc0",
        "outputId": "8dd3232b-5610-4863-c057-8a3eb78b2844"
      },
      "outputs": [
        {
          "name": "stdout",
          "output_type": "stream",
          "text": [
            "Translations with beam search:\n",
            "the property offers a restaurant .\n",
            "the property offers a shared kitchen .\n",
            "the nearest airport is 12 km from the property .\n",
            "there is a shared kitchen .\n",
            "the property also offers a shared kitchen .\n"
          ]
        }
      ],
      "source": [
        "dummy_inp_tokens_beam = inp_voc.to_matrix(sorted(train_inp, key=len)[5:10]).to(device)\n",
        "dummy_out_tokens_beam = out_voc.to_matrix(sorted(train_out, key=len)[5:10]).to(device)\n",
        "dummy_initial_state = model.encode(dummy_inp_tokens_beam)\n",
        "# beam search\n",
        "dummy_translations_beam, dummy_states_beam = model.decode_inference(dummy_initial_state, max_len=25, beam_size=3)\n",
        "print(\"Translations with beam search:\")\n",
        "print('\\n'.join([line for line in model.out_voc.to_lines(dummy_translations_beam.cpu().numpy())]))"
      ]
    },
    {
      "cell_type": "markdown",
      "id": "8884ee5c",
      "metadata": {
        "id": "8884ee5c"
      },
      "source": [
        "### Training loop - модель с Attention\n"
      ]
    },
    {
      "cell_type": "code",
      "execution_count": null,
      "id": "48d488f8",
      "metadata": {
        "id": "48d488f8"
      },
      "outputs": [],
      "source": [
        "metrics = {'train_loss': [], 'dev_bleu': [] }\n",
        "\n",
        "model = AttentiveModel(inp_voc, out_voc).to(device)\n",
        "opt = torch.optim.Adam(model.parameters(), lr=1e-3)\n",
        "batch_size = 32"
      ]
    },
    {
      "cell_type": "code",
      "execution_count": null,
      "id": "e6dc59ed",
      "metadata": {
        "id": "e6dc59ed",
        "outputId": "cd08f8f0-18ee-4874-a2fe-fbd3dc5e3b40"
      },
      "outputs": [
        {
          "data": {
            "text/plain": [
              "AttentiveModel(\n",
              "  (emb_inp): Embedding(8047, 64)\n",
              "  (emb_out): Embedding(7800, 64)\n",
              "  (enc0): LSTM(64, 128, num_layers=2, batch_first=True)\n",
              "  (dec_start): Linear(in_features=128, out_features=128, bias=True)\n",
              "  (dec0): GRUCell(192, 128)\n",
              "  (logits): Linear(in_features=128, out_features=7800, bias=True)\n",
              "  (dropout): Dropout(p=0.5, inplace=False)\n",
              "  (attention): AttentionLayer(\n",
              "    (linear_enc): Linear(in_features=128, out_features=128, bias=True)\n",
              "    (linear_dec): Linear(in_features=128, out_features=128, bias=True)\n",
              "    (linear_out): Linear(in_features=128, out_features=1, bias=True)\n",
              "    (softmax): Softmax(dim=-1)\n",
              "  )\n",
              ")"
            ]
          },
          "execution_count": 58,
          "metadata": {},
          "output_type": "execute_result"
        }
      ],
      "source": [
        "model"
      ]
    },
    {
      "cell_type": "code",
      "execution_count": null,
      "id": "bb58dc69",
      "metadata": {
        "colab": {
          "base_uri": "https://localhost:8080/"
        },
        "id": "bb58dc69",
        "outputId": "072b2fb4-6885-445a-f6b2-8470641d8542"
      },
      "outputs": [
        {
          "data": {
            "text/plain": [
              "0.002392409277551994"
            ]
          },
          "execution_count": 33,
          "metadata": {},
          "output_type": "execute_result"
        }
      ],
      "source": [
        "compute_bleu(model, dev_inp, dev_out)"
      ]
    },
    {
      "cell_type": "code",
      "execution_count": null,
      "id": "b022b733",
      "metadata": {
        "colab": {
          "base_uri": "https://localhost:8080/",
          "height": 426
        },
        "id": "b022b733",
        "outputId": "b4a1fb29-c92a-4363-ec82-831a3338035d",
        "scrolled": true
      },
      "outputs": [
        {
          "data": {
            "image/png": "[encoded data removed]",
            "text/plain": [
              "<Figure size 1200x400 with 2 Axes>"
            ]
          },
          "metadata": {},
          "output_type": "display_data"
        },
        {
          "name": "stdout",
          "output_type": "stream",
          "text": [
            "Mean loss=4.115\n"
          ]
        },
        {
          "name": "stderr",
          "output_type": "stream",
          "text": [
            "100%|██████████| 1000/1000 [37:48<00:00,  2.27s/it]\n"
          ]
        }
      ],
      "source": [
        "for _ in trange(1000):\n",
        "    step = len(metrics['train_loss']) + 1\n",
        "    batch_ix = np.random.randint(len(train_inp), size=batch_size)\n",
        "    batch_inp = inp_voc.to_matrix(train_inp[batch_ix]).to(device)\n",
        "    batch_out = out_voc.to_matrix(train_out[batch_ix]).to(device)\n",
        "\n",
        "    opt.zero_grad()\n",
        "    loss_t = compute_loss(model, batch_inp, batch_out)\n",
        "    loss_t.backward()\n",
        "    opt.step()\n",
        "\n",
        "    metrics['train_loss'].append((step, loss_t.item()))\n",
        "\n",
        "    if step % 100 == 0:\n",
        "        metrics['dev_bleu'].append((step, compute_bleu(model, dev_inp, dev_out)))\n",
        "\n",
        "        clear_output(True)\n",
        "        plt.figure(figsize=(12,4))\n",
        "        for i, (name, history) in enumerate(sorted(metrics.items())):\n",
        "            plt.subplot(1, len(metrics), i + 1)\n",
        "            plt.title(name)\n",
        "            plt.plot(*zip(*history))\n",
        "            plt.grid()\n",
        "        plt.show()\n",
        "        print(\"Mean loss=%.3f\" % np.mean(metrics['train_loss'][-10:], axis=0)[1], flush=True)"
      ]
    },
    {
      "cell_type": "code",
      "execution_count": null,
      "id": "f9a32e8a",
      "metadata": {
        "colab": {
          "base_uri": "https://localhost:8080/"
        },
        "id": "f9a32e8a",
        "outputId": "9df23e94-4138-43e0-c9c6-9c72ae9c022c",
        "scrolled": true
      },
      "outputs": [
        {
          "data": {
            "text/plain": [
              "10.966114597790376"
            ]
          },
          "execution_count": 37,
          "metadata": {},
          "output_type": "execute_result"
        }
      ],
      "source": [
        "compute_bleu(model, dev_inp, dev_out)"
      ]
    },
    {
      "cell_type": "code",
      "execution_count": null,
      "id": "507a8ece",
      "metadata": {
        "id": "507a8ece",
        "outputId": "fca2c0bc-c27f-411e-9758-da9a777f474f"
      },
      "outputs": [
        {
          "name": "stdout",
          "output_type": "stream",
          "text": [
            "\n",
            "в ванной комнате с ванной предоставляется фен .\n",
            "the private bathroom comes with a shower . \n",
            "\n",
            "на территории можно сыграть в дартс и сквош .\n",
            "the property offers free drinks .\n",
            "\n",
            "nапартаменты располагают гостиной зоной .\n",
            "the accommodation provides a free dishes ..\n",
            "\n",
            "гости могут самостоятельно приготовить блюда на полностью укомплектованной кухне .\n",
            "guests can enjoy a microwave and a free drinks .\n",
            "\n",
            "к услугам гостей 2 спальни и 1 ванная комната с ванной и / или душем , а также кухня с духовкой и микроволновой печью .\n",
            "the apartment has a tv , a tv and a recreation area with a recreation area and a recreation area .\n",
            "\n",
            "ужин для гостей приготовят в ресторане ron@@ ni@@ e ' s w@@ ing@@ s & o@@ y@@ st@@ er bar .\n",
            "the hotel ’ s restaurant serves a variety of motions at the site .\n"
          ]
        }
      ],
      "source": [
        "for inp_line, trans_line in zip(dev_inp[::500], model.translate_lines(dev_inp[::500])[0]):\n",
        "    print(inp_line)\n",
        "    print(trans_line)\n",
        "    print()"
      ]
    },
    {
      "cell_type": "code",
      "execution_count": null,
      "id": "44e7b073",
      "metadata": {
        "id": "44e7b073"
      },
      "outputs": [],
      "source": []
    }
  ],
  "metadata": {
    "kernelspec": {
      "display_name": "Python 3 (ipykernel)",
      "language": "python",
      "name": "python3"
    },
    "language_info": {
      "codemirror_mode": {
        "name": "ipython",
        "version": 3
      },
      "file_extension": ".py",
      "mimetype": "text/x-python",
      "name": "python",
      "nbconvert_exporter": "python",
      "pygments_lexer": "ipython3",
      "version": "3.11.4"
    },
    "colab": {
      "provenance": [],
      "include_colab_link": true
    }
  },
  "nbformat": 4,
  "nbformat_minor": 5
}
